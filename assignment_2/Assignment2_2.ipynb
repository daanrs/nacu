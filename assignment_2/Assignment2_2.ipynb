{
 "cells": [
  {
   "cell_type": "code",
   "execution_count": 1,
   "metadata": {},
   "outputs": [],
   "source": [
    "import numpy as np\n",
    "import matplotlib.pyplot as plt\n",
    "import math"
   ]
  },
  {
   "cell_type": "markdown",
   "metadata": {},
   "source": [
    "For executing it, just run all the cells in order"
   ]
  },
  {
   "cell_type": "markdown",
   "metadata": {},
   "source": [
    "### A, B"
   ]
  },
  {
   "cell_type": "code",
   "execution_count": 2,
   "metadata": {},
   "outputs": [
    {
     "name": "stdout",
     "output_type": "stream",
     "text": [
      "With the first configuration, the particle converges to the position x = 15.0\n",
      "With the second configuration, the particle converges to the position x = -100.3448376229819\n"
     ]
    },
    {
     "data": {
      "image/png": "[encoded data removed]",
      "text/plain": [
       "<Figure size 432x288 with 2 Axes>"
      ]
     },
     "metadata": {
      "needs_background": "light"
     },
     "output_type": "display_data"
    }
   ],
   "source": [
    "def fitness(pos):\n",
    "        return 1/((pos)**2)\n",
    "\n",
    "class particle():\n",
    "    def __init__(self,name,pos,velocity):\n",
    "        self.name = name\n",
    "        self.pos = pos\n",
    "        self.velocity = velocity\n",
    "        self.personal_best_pos = pos\n",
    "\n",
    "    def set_global_best(self, pos):\n",
    "        self.global_best = pos\n",
    "\n",
    "    def check_if_in_bounds(self):\n",
    "        if self.pos > 500:\n",
    "            self.pos = 500\n",
    "        if self.pos < -500:\n",
    "            self.pos = -500\n",
    "        \n",
    "    def move(self):\n",
    "        old_pos = self.pos\n",
    "        self.pos = self.pos + self.velocity\n",
    "        if fitness(self.pos) > fitness(old_pos):\n",
    "            self.personal_best_pos = self.pos\n",
    "        self.check_if_in_bounds()\n",
    "\n",
    "    def update(self, momentum=1, alpha1=1, alpha2=1, r1=.5, r2=.5):\n",
    "        self.velocity = momentum * self.velocity + r1*alpha1*(self.personal_best_pos - self.pos) + r2*alpha2*(self.personal_best_pos - self.pos)\n",
    "        self.move()\n",
    "\n",
    "p1 = particle(\"Particle\",20,10)\n",
    "hist1 = [p1.pos]  \n",
    "p2 = particle(\"Particle\",20,10)\n",
    "hist2 = [p2.pos]\n",
    "\n",
    "for i in range(500):\n",
    "    p1.update(0.5,1.5,1.5,.5,.5)\n",
    "    # print(p.pos)\n",
    "    hist1.append(p1.pos)\n",
    "\n",
    "    p2.update(0.7,1.5,1.5,1,1)\n",
    "    # print(p.pos)\n",
    "    hist2.append(p2.pos)\n",
    "\n",
    "fig, axs = plt.subplots(1,2)\n",
    "axs[0].plot(hist1, label=\"config. 1\")\n",
    "axs[0].plot(hist2, label=\"config. 2\")\n",
    "axs[0].legend()\n",
    "\n",
    "axs[1].plot(hist1[0:10], label=\"config. 1\")\n",
    "axs[1].plot(hist2[0:10], label=\"config. 2\")\n",
    "axs[1].legend()\n",
    "\n",
    "print(f\"With the first configuration, the particle converges to the position x = {hist1[-1]}\")\n",
    "print(f\"With the second configuration, the particle converges to the position x = {hist2[-1]}\")\n",
    "\n",
    "\n",
    "\n"
   ]
  },
  {
   "cell_type": "markdown",
   "metadata": {},
   "source": [
    "### C"
   ]
  },
  {
   "cell_type": "markdown",
   "metadata": {},
   "source": [
    "If we consider a single member swarm, the formula for calculating the velocity of a particle i becomes like this:\n",
    "\n",
    "It's only 1 particle so the personal best of the particle is also the global best so: $x_{i}^{*} = x^*$\n",
    "\n",
    "$v_i = w*v_i + \\alpha _1 r_1 (x^{*} - x_i) + \\alpha _2 r_2 (x^{*} - x_i)$\n",
    "\n",
    "So if we have a w<1, that is always decreasing the velocity that the particle has at any moment. We can see what would happen in the previous plot:"
   ]
  },
  {
   "cell_type": "code",
   "execution_count": 3,
   "metadata": {},
   "outputs": [
    {
     "data": {
      "text/plain": [
       "[<matplotlib.lines.Line2D at 0x22b9ca48ee0>]"
      ]
     },
     "execution_count": 3,
     "metadata": {},
     "output_type": "execute_result"
    },
    {
     "data": {
      "image/png": "[encoded data removed]",
      "text/plain": [
       "<Figure size 432x288 with 1 Axes>"
      ]
     },
     "metadata": {
      "needs_background": "light"
     },
     "output_type": "display_data"
    }
   ],
   "source": [
    "plt.plot(hist1[0:20], label=\"config. 1\")"
   ]
  },
  {
   "cell_type": "markdown",
   "metadata": {},
   "source": [
    "At first we can see a \"bounce\", because $\\alpha _1 r_1 (x^{*} - x_i) + \\alpha _2 r_2 (x^{*} - x_i)$ will be opossite to the velocity that it has at that moment, and afterwards the particle keeps moving to the optimum, so for each iteration we have:\n",
    "\n",
    "$x^{*} = x_i \\rightarrow v_i = w*v_i +0 +0 \\rightarrow v_i = w*v_i$\n",
    "\n",
    "The particle at that point is having its velocity decreased because of w, so it ends up stopping (In the former case before reaching the global optimum)"
   ]
  }
 ],
 "metadata": {
  "interpreter": {
   "hash": "63fd5069d213b44bf678585dea6b12cceca9941eaf7f819626cde1f2670de90d"
  },
  "kernelspec": {
   "display_name": "Python 3.9.0 64-bit",
   "language": "python",
   "name": "python3"
  },
  "language_info": {
   "codemirror_mode": {
    "name": "ipython",
    "version": 3
   },
   "file_extension": ".py",
   "mimetype": "text/x-python",
   "name": "python",
   "nbconvert_exporter": "python",
   "pygments_lexer": "ipython3",
   "version": "3.9.0"
  },
  "orig_nbformat": 4
 },
 "nbformat": 4,
 "nbformat_minor": 2
}
